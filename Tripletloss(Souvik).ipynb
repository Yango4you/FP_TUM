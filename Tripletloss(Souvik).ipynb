{
  "nbformat": 4,
  "nbformat_minor": 0,
  "metadata": {
    "colab": {
      "name": "Tripletloss(Souvik).ipynb",
      "provenance": [],
      "collapsed_sections": [],
      "authorship_tag": "ABX9TyPLSEPEJ0Iw/t0KYAc7yF4p",
      "include_colab_link": true
    },
    "kernelspec": {
      "name": "python3",
      "display_name": "Python 3"
    },
    "language_info": {
      "name": "python"
    }
  },
  "cells": [
    {
      "cell_type": "markdown",
      "metadata": {
        "id": "view-in-github",
        "colab_type": "text"
      },
      "source": [
        "<a href=\"https://colab.research.google.com/github/Yango4you/FP_TUM/blob/main/Tripletloss(Souvik).ipynb\" target=\"_parent\"><img src=\"https://colab.research.google.com/assets/colab-badge.svg\" alt=\"Open In Colab\"/></a>"
      ]
    },
    {
      "cell_type": "code",
      "execution_count": 2,
      "metadata": {
        "id": "rwzQ8OGS6yJY"
      },
      "outputs": [],
      "source": [
        "import numpy as np\n",
        "import matplotlib.pyplot as plt\n",
        "from itertools import combinations\n",
        "import tensorflow as tf\n",
        "from keras.models import Sequential\n",
        "from keras.layers.core import Dense, Dropout, Activation, Flatten\n",
        "from keras.layers.convolutional import Conv2D, MaxPooling2D, SeparableConv2D\n",
        "from keras.models import Model\n",
        "from keras.layers import concatenate,Input\n",
        "from random import randrange\n",
        "from keras import backend as K\n",
        "from tensorflow.keras.optimizers import Adam\n",
        "from tensorflow.keras.datasets import cifar10, mnist"
      ]
    },
    {
      "cell_type": "code",
      "source": [
        "(x_train, y_train), (x_test, y_test) = mnist.load_data()\n",
        "x_train = x_train.astype(\"float32\") / 255.0\n",
        "x_test = x_test.astype(\"float32\") / 255.0\n",
        "x_train = np.expand_dims(x_train,axis=-1)\n",
        "x_test = np.expand_dims(x_test,axis=-1)\n",
        "print(x_train.shape)\n",
        "#plt.imshow(x_train[8])\n",
        "\n",
        "#print(y_train[8])"
      ],
      "metadata": {
        "colab": {
          "base_uri": "https://localhost:8080/"
        },
        "id": "dZMccpFO8PqM",
        "outputId": "09b2301b-1d0a-499d-89da-7100f50987d6"
      },
      "execution_count": 3,
      "outputs": [
        {
          "output_type": "stream",
          "name": "stdout",
          "text": [
            "(60000, 28, 28, 1)\n"
          ]
        }
      ]
    },
    {
      "cell_type": "code",
      "source": [
        "def get_triplets(labels):\n",
        "    \n",
        "    triplets = []\n",
        "    for label in set(labels):\n",
        "        label_mask = (labels == label)\n",
        "        label_indices = np.where(label_mask)[0]\n",
        "        if len(label_indices) < 2:\n",
        "            continue\n",
        "        negative_indices = np.where(np.logical_not(label_mask))[0]\n",
        "        anchor_positives = list(combinations(label_indices, 2))  # All anchor-positive pairs\n",
        "\n",
        "            # Add all negatives for all positive pairs\n",
        "        temp_triplets = [[anchor_positive[0], anchor_positive[1], neg_ind] for anchor_positive in anchor_positives for neg_ind in negative_indices]\n",
        "        triplets += temp_triplets\n",
        "        #print(len(triplets))\n",
        "    return triplets"
      ],
      "metadata": {
        "id": "_fpBsK7s-nx2"
      },
      "execution_count": 4,
      "outputs": []
    },
    {
      "cell_type": "code",
      "source": [
        "def data_generator(datase, labels, batch_size):\n",
        " # Create empty arrays to contain batch of features and labels#\n",
        " batch_features_a = np.zeros((batch_size,28, 28,1))\n",
        " batch_features_p = np.zeros((batch_size,28, 28,1))\n",
        " batch_features_n = np.zeros((batch_size,28, 28,1))\n",
        " batch_labels = np.ones((batch_size))\n",
        " triplet_list = get_triplets(labels)\n",
        " while True:\n",
        "   for i in range(batch_size):\n",
        "     # choose random index in features\n",
        "     index= randrange(len(triplet_list))\n",
        "     batch_features_a[i] = datase[triplet_list[index][0]]\n",
        "     batch_features_p[i] = datase[triplet_list[index][1]]\n",
        "     batch_features_n[i] = datase[triplet_list[index][2]]\n",
        "     \n",
        "   yield [batch_features_a,batch_features_p,batch_features_n], batch_labels"
      ],
      "metadata": {
        "id": "d3K57QW5-z7N"
      },
      "execution_count": 17,
      "outputs": []
    },
    {
      "cell_type": "code",
      "source": [
        "def triplet_loss(y_true, y_pred, alpha = 2.0):\n",
        "    \"\"\"\n",
        "    Implementation of the triplet loss function\n",
        "    Arguments:\n",
        "    y_true -- true labels, required when you define a loss in Keras, you don't need it in this function.\n",
        "    y_pred -- python list containing three objects:\n",
        "            anchor -- the encodings for the anchor data\n",
        "            positive -- the encodings for the positive data (similar to anchor)\n",
        "            negative -- the encodings for the negative data (different from anchor)\n",
        "    Returns:\n",
        "    loss -- real number, value of the loss\n",
        "    \"\"\"\n",
        "\n",
        "    anchor = y_pred[:,0:32]\n",
        "    positive = y_pred[:,32:64]\n",
        "    negative = y_pred[:,64:96]\n",
        "\n",
        "    # distance between the anchor and the positive\n",
        "    pos_dist = K.sum(K.square(anchor-positive),axis=1)\n",
        "\n",
        "    # distance between the anchor and the negative\n",
        "    neg_dist = K.sum(K.square(anchor-negative),axis=1)\n",
        "\n",
        "    # compute loss\n",
        "    basic_loss = 2*pos_dist-neg_dist+alpha\n",
        "    loss = K.maximum(basic_loss,0.0)\n",
        " \n",
        "    return loss"
      ],
      "metadata": {
        "id": "wGPCBxJp-6et"
      },
      "execution_count": 18,
      "outputs": []
    },
    {
      "cell_type": "code",
      "source": [
        "def create_base_network(in_dims, out_dims):\n",
        "    \"\"\"\n",
        "    Base network to be shared.\n",
        "    \"\"\"\n",
        "    model = Sequential()\n",
        "\n",
        "   \n",
        "\n",
        "    model.add(SeparableConv2D(32, (3), data_format='channels_last', input_shape=in_dims))\n",
        "\n",
        "    model.add(Activation('relu'))\n",
        "\n",
        "    model.add(MaxPooling2D(pool_size=(2, 2)))\n",
        "\n",
        "    model.add(Dropout(0.5))\n",
        "\n",
        "   \n",
        "\n",
        "    model.add(Conv2D(64, (3)))\n",
        "\n",
        "    model.add(Activation('relu'))\n",
        "\n",
        "    model.add(Dropout(0.5))\n",
        "\n",
        "    model.add(Conv2D(128, (3)))\n",
        "\n",
        "    model.add(Activation('relu'))\n",
        "\n",
        "    model.add(Dropout(0.5))\n",
        "\n",
        "    model.add(MaxPooling2D(pool_size=(2, 2)))\n",
        "\n",
        "   \n",
        "\n",
        "    model.add(Conv2D(128, (3)))\n",
        "\n",
        "    model.add(Activation('relu'))\n",
        "\n",
        "    model.add(Dropout(0.5))\n",
        "    model.add(Dense(256))\n",
        "    model.add(Activation('relu'))\n",
        "\n",
        "    \n",
        "\n",
        "    model.add(Flatten())\n",
        "\n",
        "    model.add(Dense(out_dims))\n",
        "\n",
        "    model.add(Activation('linear'))\n",
        "\n",
        "    return model"
      ],
      "metadata": {
        "id": "4maz1UVZ--BQ"
      },
      "execution_count": 19,
      "outputs": []
    },
    {
      "cell_type": "code",
      "source": [
        "in_dims=(28,28,1)\n",
        "out_dims= 10\n",
        "\n",
        "anchor_in = Input(shape=in_dims)\n",
        "pos_in = Input(shape=in_dims)\n",
        "neg_in = Input(shape=in_dims)\n",
        "\n",
        "    # Share base network with the 3 inputs\n",
        "base_network = create_base_network(in_dims, out_dims)\n",
        "anchor_out = base_network(anchor_in)\n",
        "pos_out = base_network(pos_in)\n",
        "neg_out = base_network(neg_in)\n",
        "merged_vector = concatenate([anchor_out, pos_out, neg_out], axis=-1)\n",
        "\n",
        "    # Define the trainable model\n",
        "model = Model(inputs=[anchor_in, pos_in, neg_in], outputs=merged_vector)\n",
        "model.compile(optimizer=Adam(),\n",
        "                  loss=triplet_loss,\n",
        "                  metrics=['accuracy'])\n",
        "\n",
        "# Training the model\n",
        "history= model.fit(data_generator(x_train,y_train,5), epochs=30)\n",
        "\n",
        "plt.plot(history.history[\"loss\"])\n",
        "plt.show()"
      ],
      "metadata": {
        "colab": {
          "base_uri": "https://localhost:8080/",
          "height": 236
        },
        "id": "hhcx7B7R-_Gc",
        "outputId": "393f8c09-8312-4a23-ffd2-6aacbcad7866"
      },
      "execution_count": 1,
      "outputs": [
        {
          "output_type": "error",
          "ename": "NameError",
          "evalue": "ignored",
          "traceback": [
            "\u001b[0;31m---------------------------------------------------------------------------\u001b[0m",
            "\u001b[0;31mNameError\u001b[0m                                 Traceback (most recent call last)",
            "\u001b[0;32m<ipython-input-1-5784f9daa78e>\u001b[0m in \u001b[0;36m<module>\u001b[0;34m()\u001b[0m\n\u001b[1;32m      2\u001b[0m \u001b[0mout_dims\u001b[0m\u001b[0;34m=\u001b[0m \u001b[0;36m10\u001b[0m\u001b[0;34m\u001b[0m\u001b[0;34m\u001b[0m\u001b[0m\n\u001b[1;32m      3\u001b[0m \u001b[0;34m\u001b[0m\u001b[0m\n\u001b[0;32m----> 4\u001b[0;31m \u001b[0manchor_in\u001b[0m \u001b[0;34m=\u001b[0m \u001b[0mInput\u001b[0m\u001b[0;34m(\u001b[0m\u001b[0mshape\u001b[0m\u001b[0;34m=\u001b[0m\u001b[0min_dims\u001b[0m\u001b[0;34m)\u001b[0m\u001b[0;34m\u001b[0m\u001b[0;34m\u001b[0m\u001b[0m\n\u001b[0m\u001b[1;32m      5\u001b[0m \u001b[0mpos_in\u001b[0m \u001b[0;34m=\u001b[0m \u001b[0mInput\u001b[0m\u001b[0;34m(\u001b[0m\u001b[0mshape\u001b[0m\u001b[0;34m=\u001b[0m\u001b[0min_dims\u001b[0m\u001b[0;34m)\u001b[0m\u001b[0;34m\u001b[0m\u001b[0;34m\u001b[0m\u001b[0m\n\u001b[1;32m      6\u001b[0m \u001b[0mneg_in\u001b[0m \u001b[0;34m=\u001b[0m \u001b[0mInput\u001b[0m\u001b[0;34m(\u001b[0m\u001b[0mshape\u001b[0m\u001b[0;34m=\u001b[0m\u001b[0min_dims\u001b[0m\u001b[0;34m)\u001b[0m\u001b[0;34m\u001b[0m\u001b[0;34m\u001b[0m\u001b[0m\n",
            "\u001b[0;31mNameError\u001b[0m: name 'Input' is not defined"
          ]
        }
      ]
    },
    {
      "cell_type": "code",
      "source": [
        "test_loss, test_acc = model.evaluate(x_test, y_test, verbose=2)\n",
        "print(test_acc)"
      ],
      "metadata": {
        "id": "_Eu0n8SwBP3Y"
      },
      "execution_count": null,
      "outputs": []
    }
  ]
}